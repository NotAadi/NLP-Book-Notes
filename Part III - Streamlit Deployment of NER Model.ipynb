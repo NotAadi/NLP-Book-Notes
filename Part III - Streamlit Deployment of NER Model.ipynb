{
  "cells": [
    {
      "cell_type": "markdown",
      "metadata": {
        "id": "tLtcfpY9Js8H"
      },
      "source": [
        "First, we need to download book data from AWS:"
      ],
      "id": "tLtcfpY9Js8H"
    },
    {
      "cell_type": "code",
      "execution_count": null,
      "metadata": {
        "id": "4DfSsME6Jwha"
      },
      "outputs": [],
      "source": [
        "# Install aws cli and get the data for this course and this task overall. Already done, doesn't need to be run again.\n",
        "#   !pip install awscli\n",
        "#   !aws s3 cp s3://applied-nlp-book/data/ data --recursive --no-sign-request\n",
        "#   !aws s3 cp s3://applied-nlp-book/models/ag_dataset/ models/ag_dataset --recursive --no-sign-request"
      ],
      "id": "4DfSsME6Jwha"
    },
    {
      "cell_type": "markdown",
      "metadata": {
        "id": "arranged-walnut"
      },
      "source": [
        "## Create Directory"
      ],
      "id": "arranged-walnut"
    },
    {
      "cell_type": "code",
      "execution_count": 1,
      "metadata": {
        "colab": {
          "base_uri": "https://localhost:8080/"
        },
        "id": "further-cherry",
        "outputId": "a0f8b55a-260d-4da7-f493-e4f0efe0eb48"
      },
      "outputs": [
        {
          "output_type": "stream",
          "name": "stdout",
          "text": [
            "Mounted at /content/drive\n",
            "/content/drive/My Drive/NLP Book Notes/apps\n"
          ]
        }
      ],
      "source": [
        "# Connect to Google Drive\n",
        "from google.colab import drive\n",
        "drive.mount('/content/drive', force_remount=True)\n",
        " \n",
        "# Make and Switch to Apps Directory\n",
        "# %mkdir '/content/drive/My Drive/NLP Book Notes/apps'\n",
        "%cd '/content/drive/My Drive/NLP Book Notes/apps'"
      ],
      "id": "further-cherry"
    },
    {
      "cell_type": "markdown",
      "metadata": {
        "id": "protecting-grove"
      },
      "source": [
        "### Build and Deploy Streamlit App (Dataset NER)"
      ],
      "id": "protecting-grove"
    },
    {
      "cell_type": "code",
      "execution_count": null,
      "metadata": {
        "colab": {
          "base_uri": "https://localhost:8080/"
        },
        "id": "posted-benjamin",
        "outputId": "12913d9c-3eb1-40cc-df1a-273880f17c7a"
      },
      "outputs": [
        {
          "name": "stdout",
          "output_type": "stream",
          "text": [
            "Overwriting ner_app_agnews.py\n"
          ]
        }
      ],
      "source": [
        "# Here, we write a python file into our \"apps\" directory using jupyter cell magic. \n",
        "\n",
        "%%writefile ner_app_agnews.py\n",
        "# Load libraries\n",
        "import spacy\n",
        "import streamlit as st\n",
        "import spacy_streamlit\n",
        "import numpy as np\n",
        "import pandas as pd\n",
        "import random\n",
        " \n",
        "# Set title\n",
        "st.title(':star: AG News Dataset')\n",
        " \n",
        "# Define function to read data\n",
        "@st.cache\n",
        "def read_data(file):\n",
        "    read_path = '/content/drive/MyDrive/Applied-NLP-in-the-Enterprise'\n",
        "    data = pd.read_csv(read_path+file)\n",
        "    return data\n",
        " \n",
        "# Read data\n",
        "data = read_data('/data/ag_dataset/train_updated.csv')\n",
        "\n",
        "# Define function to select category. Using the st.cache decorator just adds that function to cache, and if the same\n",
        "#   function is called later, with the same parameters, the same cached output will be returned\n",
        "@st.cache\n",
        "def select_category(data, category_option):\n",
        "    return data.loc[data.class_name==category_option]\n",
        " \n",
        "# Set up sidebar widgets using streamlit functions.\n",
        "st.sidebar.header(\"Parameters\")\n",
        "display_selections = st.sidebar.multiselect(\n",
        " \"Which data would you like to display?\",\n",
        " [\"Full Data\",\"Single Article\"], None)\n",
        " \n",
        "category_option = st.sidebar.radio(\n",
        " 'Which category would you like to explore?',\n",
        " data.class_name.unique())\n",
        " \n",
        "article_option = st.sidebar.number_input(\n",
        " 'Which article would you like to explore?',\n",
        " data.loc[data.class_name==category_option].index.min(),\n",
        " data.loc[data.class_name==category_option].index.max(),\n",
        "                            data.loc[data.class_name\n",
        "                                     ==category_option].index.min())\n",
        "\n",
        "# Set display behavior for data\n",
        "if \"Full Data\" in display_selections:\n",
        "    st.header(\"Full Data\")\n",
        "    st.write(select_category(data,category_option\n",
        "                             .loc[:,[\"title\",\"description\"]],\n",
        "                             width=1980, height=200))\n",
        "\n",
        "#\n",
        "if \"Single Article\" in display_selections:\n",
        "    st.header(\"Single Article\")\n",
        "    st.subheader(\"Title\")\n",
        "    st.write(data.loc[article_option,\"title\"])\n",
        "    st.subheader(\"Description\")\n",
        "    st.write(data.loc[article_option,\"description\"])\n",
        "\n",
        "# Set text\n",
        "default_text = data.loc[article_option,\"description\"]\n",
        " \n",
        "# Show NER Results\n",
        "st.header(\"NER Results\")\n",
        "base, custom = st.columns(2)\n",
        " \n",
        "# Base SpaCy Model\n",
        "with base:\n",
        "    base_model = spacy_streamlit.load_model(\"en_core_web_lg\")\n",
        "    doc_base = base_model(default_text)\n",
        "    ner_labels = [\"ORG\",\"PERSON\",\"GPE\"]\n",
        "    show_table = True\n",
        "    title = \"Base SpaCy Model\"\n",
        "    sidebar_title = \"Base SpaCy Model\"\n",
        "    spacy_streamlit.visualize_ner(doc_base,\n",
        "                                  labels=ner_labels,\n",
        "                                  show_table=show_table,\n",
        "                                  title=title,\n",
        "                                  key = 0)\n",
        "\n",
        "# Run custom SpaCy model using Streamlit to display output.\n",
        "with custom:\n",
        "    # Uses prebuilt NER model, to use custom model, load in at the path /content/drive/MyDrive/NLP Book Notes/ner-last-model/models/ag_dataset/ner/ner-gpu-blank/model-last\n",
        "    custom_ner_model = spacy_streamlit.load_model(\n",
        "    '/content/drive/MyDrive/Applied-NLP-in-the-Enterprise/models/ag_dataset/ner/ner-gpu-blank/model-best')\n",
        "    doc_custom = custom_ner_model(default_text)\n",
        "    ner_labels = [\"ORG\",\"PERSON\",\"GPE\",\"TICKER\"]\n",
        "    show_table = True\n",
        "    title = \"Custom SpaCy Model\"\n",
        "    sidebar_title = \"Custom SpaCy Model\"\n",
        "    spacy_streamlit.visualize_ner(doc_custom,\n",
        "                                  labels=ner_labels, \n",
        "                                  show_table=show_table,\n",
        "                                  title=title,\n",
        "                                  key = 1)"
      ],
      "id": "posted-benjamin"
    },
    {
      "cell_type": "code",
      "execution_count": null,
      "metadata": {
        "id": "written-pendant"
      },
      "outputs": [],
      "source": [
        "# Import libraries\n",
        "'''Main Libraries'''\n",
        "import numpy as np\n",
        "import pandas as pd\n",
        " \n",
        "# Install spacy (using cuda 112 since colab now uses cuda 11.2)\n",
        "!pip install -U spacy[cuda112, transformers]\n",
        "!pip install -U spacy-lookups-data\n",
        "!pip install cupy-cuda112\n",
        "!pip install -U spacy[transformers]\n",
        "\n",
        "# Download pretrained language model (core model)\n",
        "!python -m spacy download en_core_web_lg\n",
        " \n",
        "# Install spacy-streamlit\n",
        "!pip install spacy-streamlit\n",
        "\n",
        "# Install Streamlit\n",
        "!pip install streamlit\n",
        " \n",
        "!pip install protobuf==3.20.3"
      ],
      "id": "written-pendant"
    },
    {
      "cell_type": "code",
      "execution_count": null,
      "metadata": {
        "colab": {
          "base_uri": "https://localhost:8080/"
        },
        "id": "svKyYWntUyj1",
        "outputId": "5e6cd145-56db-4423-8350-0aafb1b95ecf"
      },
      "outputs": [
        {
          "name": "stdout",
          "output_type": "stream",
          "text": [
            "\u001b[K\u001b[?25hnpx: installed 22 in 2.124s\n",
            "\n",
            "Collecting usage statistics. To deactivate, set browser.gatherUsageStats to False.\n",
            "\u001b[0m\n",
            "\u001b[0m\n",
            "\u001b[34m\u001b[1m  You can now view your Streamlit app in your browser.\u001b[0m\n",
            "\u001b[0m\n",
            "\u001b[34m  Network URL: \u001b[0m\u001b[1mhttp://172.28.0.2:8501\u001b[0m\n",
            "\u001b[34m  External URL: \u001b[0m\u001b[1mhttp://34.90.175.125:8501\u001b[0m\n",
            "\u001b[0m\n",
            "your url is: https://large-ties-help-34-90-175-125.loca.lt\n",
            "/usr/local/lib/python3.8/dist-packages/spacy/util.py:877: UserWarning: [W095] Model 'en_pipeline' (0.0.0) was trained with spaCy v3.0 and may not be 100% compatible with the current version (3.4.4). If you see errors or degraded performance, download a newer compatible model or retrain your custom model with the current spaCy version. For more details and available updates, run: python -m spacy validate\n",
            "  warnings.warn(warn_msg)\n",
            "/usr/local/lib/python3.8/dist-packages/spacy_transformers/pipeline_component.py:405: UserWarning: Automatically converting a transformer component from spacy-transformers v1.0 to v1.1+. If you see errors or degraded performance, download a newer compatible model or retrain your custom model with the current spacy-transformers version. For more details and available updates, run: python -m spacy validate\n",
            "  warnings.warn(warn_msg)\n",
            "2023-01-12 07:06:15.035 Uncaught app exception\n",
            "Traceback (most recent call last):\n",
            "  File \"/usr/local/lib/python3.8/dist-packages/streamlit/runtime/scriptrunner/script_runner.py\", line 565, in _run_script\n",
            "    exec(code, module.__dict__)\n",
            "  File \"/content/drive/MyDrive/NLP Book Notes/apps/ner_app_agnews.py\", line 90, in <module>\n",
            "    spacy_streamlit.visualize_ner(doc_custom,\n",
            "  File \"/usr/local/lib/python3.8/dist-packages/spacy_streamlit/visualizer.py\", line 250, in visualize_ner\n",
            "    label_select = exp.multiselect(\n",
            "  File \"/usr/local/lib/python3.8/dist-packages/streamlit/runtime/metrics_util.py\", line 311, in wrapped_func\n",
            "    result = non_optional_func(*args, **kwargs)\n",
            "  File \"/usr/local/lib/python3.8/dist-packages/streamlit/elements/multiselect.py\", line 245, in multiselect\n",
            "    return self._multiselect(\n",
            "  File \"/usr/local/lib/python3.8/dist-packages/streamlit/elements/multiselect.py\", line 298, in _multiselect\n",
            "    widget_state = register_widget(\n",
            "  File \"/usr/local/lib/python3.8/dist-packages/streamlit/runtime/state/widgets.py\", line 197, in register_widget\n",
            "    return register_widget_from_metadata(metadata, ctx, widget_func_name, element_type)\n",
            "  File \"/usr/local/lib/python3.8/dist-packages/streamlit/runtime/state/widgets.py\", line 245, in register_widget_from_metadata\n",
            "    raise DuplicateWidgetID(\n",
            "streamlit.errors.DuplicateWidgetID: There are multiple widgets with the same `key='None_ner_label_select'`.\n",
            "\n",
            "To fix this, please make sure that the `key` argument is unique for each\n",
            "widget you create.\n",
            "\u001b[34m  Stopping...\u001b[0m\n",
            "^C\n"
          ]
        }
      ],
      "source": [
        "!streamlit run ner_app_agnews.py  & npx localtunnel --port 8501"
      ],
      "id": "svKyYWntUyj1"
    },
    {
      "cell_type": "markdown",
      "metadata": {
        "id": "strong-peeing"
      },
      "source": [
        "### Build and Deploy Streamlit App for Custom NER"
      ],
      "id": "strong-peeing"
    },
    {
      "cell_type": "code",
      "execution_count": 2,
      "metadata": {
        "colab": {
          "base_uri": "https://localhost:8080/"
        },
        "id": "gJDb5SB-1u6_",
        "outputId": "48d55642-57f2-48f6-ae66-e9c20e207956"
      },
      "outputs": [
        {
          "output_type": "stream",
          "name": "stdout",
          "text": [
            "Overwriting ner_app_custom.py\n"
          ]
        }
      ],
      "source": [
        "%%writefile ner_app_custom.py\n",
        "# Load libraries\n",
        "import spacy\n",
        "import streamlit as st\n",
        "import spacy_streamlit\n",
        "import numpy as np\n",
        "import pandas as pd\n",
        "import random\n",
        " \n",
        "# Set title\n",
        "st.title(':star: Custom NER')\n",
        "st.header(\"Custom Text\")\n",
        "default_text = st.text_area(\"Enter text to analyze.\",\n",
        "                            height=250)\n",
        " \n",
        "# Show NER Results\n",
        "st.header(\"NER Results\")\n",
        "base, custom = st.columns(2)\n",
        "st.write(\"GPE - GeoPolitical Entity, ORG - ORGanization, PERSON - Person\")\n",
        " \n",
        "# Base SpaCy Model\n",
        "with base:\n",
        "    base_model = spacy_streamlit.load_model(\"en_core_web_lg\")\n",
        "    doc_base = base_model(default_text)\n",
        "    ner_labels = [\"ORG\",\"PERSON\",\"GPE\"]\n",
        "    show_table = True\n",
        "    title = \"Base SpaCy Model\"\n",
        "    sidebar_title = \"Base SpaCy Model\"\n",
        "    spacy_streamlit.visualize_ner(doc_base,\n",
        "                                  labels=ner_labels,\n",
        "                                  show_table=show_table,\n",
        "                                  title=title,\n",
        "                                  key = 0)\n",
        "\n",
        "# Custom SpaCy Model\n",
        "with custom:\n",
        "    custom_ner_model = spacy_streamlit.load_model(\n",
        "    '/content/drive/MyDrive/Applied-NLP-in-the-Enterprise/models/ag_dataset/ner/ner-gpu-blank/model-best')\n",
        "    doc_custom = custom_ner_model(default_text)\n",
        "    ner_labels = [\"ORG\",\"PERSON\",\"GPE\",\"TICKER\"]\n",
        "    show_table = True\n",
        "    title = \"Custom SpaCy Model\"\n",
        "    sidebar_title = \"Custom SpaCy Model\"\n",
        "    spacy_streamlit.visualize_ner(doc_custom,\n",
        "                                  labels=ner_labels,\n",
        "                                  show_table=show_table,\n",
        "                                  title=title,\n",
        "                                  key = 1)"
      ],
      "id": "gJDb5SB-1u6_"
    },
    {
      "cell_type": "code",
      "execution_count": null,
      "metadata": {
        "id": "YuQe2d1nCUsI"
      },
      "outputs": [],
      "source": [
        "# Import libraries\n",
        "'''Main Libraries'''\n",
        "import numpy as np\n",
        "import pandas as pd\n",
        " \n",
        "# Install spacy (using cuda 112 since colab now uses cuda 11.2)\n",
        "!pip install -U spacy[cuda112]\n",
        "!pip install -U spacy-lookups-data\n",
        "!pip install cupy-cuda112\n",
        "!pip install -U spacy[transformers]\n",
        " \n",
        "# Download pretrained language model (core model)\n",
        "!python -m spacy download en_core_web_lg\n",
        " \n",
        "# Install spacy-streamlit\n",
        "!pip install spacy-streamlit\n",
        "\n",
        "# Install Streamlit\n",
        "!pip install streamlit\n",
        " \n",
        "!pip install protobuf==3.20.3"
      ],
      "id": "YuQe2d1nCUsI"
    },
    {
      "cell_type": "code",
      "execution_count": null,
      "metadata": {
        "id": "uLqHkXrtx1Ow"
      },
      "outputs": [],
      "source": [
        "%cd '/content/drive/My Drive/NLP Book Notes/apps'\n",
        "!streamlit run ner_app_custom.py  & npx localtunnel --port 8501"
      ],
      "id": "uLqHkXrtx1Ow"
    },
    {
      "cell_type": "markdown",
      "metadata": {
        "id": "leading-dining"
      },
      "source": [
        "### Build and Deploy Streamlit App for Text Classification on AGNews Dataset"
      ],
      "id": "leading-dining"
    },
    {
      "cell_type": "code",
      "execution_count": null,
      "metadata": {
        "id": "multiple-subscription"
      },
      "outputs": [],
      "source": [
        "# NOT UPDATED FOR USE\n",
        "\n",
        "%%writefile textcat_app_agnews.py\n",
        "# Load libraries\n",
        "import spacy\n",
        "import streamlit as st\n",
        "import spacy_streamlit\n",
        "import numpy as np\n",
        "import pandas as pd\n",
        "import random\n",
        " \n",
        "# Set title\n",
        "st.title(':star: AG News Dataset')\n",
        " \n",
        "# Define function to read data\n",
        "@st.cache\n",
        "def read_data(file):\n",
        "    read_path = '/content/drive/My Drive/Python/NLP Book Notes'\n",
        "    data = pd.read_csv(read_path+file)\n",
        "    return data\n",
        " \n",
        "# Read data\n",
        "data = read_data('/data/ag_dataset/prepared/train_prepared.csv')\n",
        " \n",
        "# Define function to select category\n",
        "@st.cache\n",
        "def select_category(data, category_option):\n",
        "    return data.loc[data.class_name==category_option]\n",
        " \n",
        "# Set up sidebar widgets\n",
        "st.sidebar.header(\"Parameters\")\n",
        "display_selections = st.sidebar.multiselect(\n",
        " \"Which data would you like to display?\",\n",
        " [\"Full Data\",\"Single Article\"], None)\n",
        " \n",
        "category_option = st.sidebar.radio(\n",
        " 'Which category would you like to explore?',\n",
        " data.class_name.unique())\n",
        " \n",
        "article_option = st.sidebar.number_input(\n",
        " 'Which article would you like to explore?',\n",
        " data.loc[data.class_name==category_option].index.min(),\n",
        " data.loc[data.class_name==category_option].index.max(),\n",
        " data.loc[data.class_name==category_option].index.min())\n",
        " \n",
        "# Set display behavior for data\n",
        "if \"Full Data\" in display_selections:\n",
        "    st.header(\"Full Data\")\n",
        "    st.write(select_category(data,category_option)\n",
        "             .loc[:,[\"title\",\"description\"]],\n",
        "             width=1980, height=200)\n",
        " "
      ],
      "id": "multiple-subscription"
    },
    {
      "cell_type": "code",
      "execution_count": null,
      "metadata": {
        "id": "italian-egyptian"
      },
      "outputs": [],
      "source": [
        "if \"Single Article\" in display_selections:\n",
        "    st.header(\"Single Article\")\n",
        "    st.subheader(\"Title\")\n",
        "    st.write(data.loc[article_option,\"title\"])\n",
        "    st.subheader(\"Description\")\n",
        "    st.write(data.loc[article_option,\"description\"])\n",
        "\n",
        "# Set text\n",
        "default_text = data.loc[article_option,\"description\"]\n",
        " \n",
        "# Custom SpaCy Model\n",
        "custom_model = spacy_streamlit.load_model(\\\n",
        "'/content/drive/My Drive/Python/NLP Book Notes/\\\n",
        "models/ag_dataset/textcat-prodigy-V3-base-full/model-best')\n",
        "doc= custom_model(default_text)\n",
        "title = \"Text Classification\"\n",
        "spacy_streamlit.visualize_textcat(doc, title=title)\n",
        "prediction = max(doc.cats, key=lambda key: doc.cats[key])\n",
        "confidence = str(np.round(doc.cats[prediction],2))\n",
        "st.header(\"Prediction: \" + prediction)\n",
        "st.subheader(\"Confidence: \" + confidence)"
      ],
      "id": "italian-egyptian"
    },
    {
      "cell_type": "code",
      "execution_count": null,
      "metadata": {
        "id": "dental-employment"
      },
      "outputs": [],
      "source": [
        "# Deploy Text Classification App for AGNews\n",
        "deploy('/content/drive/\"My Drive\"/NLP Book Notes/\\\n",
        " apps/textcat_app_agnews.py')"
      ],
      "id": "dental-employment"
    },
    {
      "cell_type": "markdown",
      "metadata": {
        "id": "painful-prospect"
      },
      "source": [
        "### Build and Deploy Streamlit App for Text Classification on Custom Text"
      ],
      "id": "painful-prospect"
    },
    {
      "cell_type": "code",
      "execution_count": null,
      "metadata": {
        "id": "surrounded-prince"
      },
      "outputs": [],
      "source": [
        "# NOT UPDATED FOR USE\n",
        "\n",
        "%%writefile textcat_app_custom.py\n",
        "# Load libraries\n",
        "import spacy\n",
        "import streamlit as st\n",
        "import spacy_streamlit\n",
        "import numpy as np\n",
        "import pandas as pd\n",
        "import random\n",
        " \n",
        "# Set title\n",
        "st.header(\":star: Text Classification\")\n",
        "default_text = st.text_area(\"Enter text to analyze.\")\n",
        " \n",
        "# Custom SpaCy Model\n",
        "custom_model = spacy_streamlit.load_model(\\\n",
        "'/content/drive/My Drive/Python/NLP Book Notes/\\\n",
        "models/ag_dataset/textcat-prodigy-V3-base-full/model-best')\n",
        "doc= custom_model(default_text)\n",
        "title = \"Text\"\n",
        "spacy_streamlit.visualize_textcat(doc, title=title)\n",
        "prediction = max(doc.cats, key=lambda key: doc.cats[key])\n",
        "confidence = str(np.round(doc.cats[prediction],2))\n",
        "st.header(\"Prediction: \" + prediction)\n",
        "st.subheader(\"Confidence: \" + confidence)"
      ],
      "id": "surrounded-prince"
    }
  ],
  "metadata": {
    "colab": {
      "collapsed_sections": [
        "protecting-grove",
        "leading-dining",
        "painful-prospect"
      ],
      "provenance": []
    },
    "gpuClass": "standard",
    "kernelspec": {
      "display_name": "Python 3",
      "language": "python",
      "name": "python3"
    }
  },
  "nbformat": 4,
  "nbformat_minor": 5
}
