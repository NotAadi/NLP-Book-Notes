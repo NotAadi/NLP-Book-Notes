# NLP Basic Terms

- __Tokenization__: The process of breaking text down into meaningful elements such as words or punctuation. Also involves turning text into tensors that neural nets can work with
- __Part of Speech (POS) Tagging__: Identifying what grammatical part of speech (verb, proper noun, adjective, etc.) each token is
- __Dependency Parsing__: Identifying relationships between tokens, creating a syntactic structure for the sentence
- __Chunking__: Combining related tokens into a single token, such as related noun groups or related verb groups. E.g., Tokens of "New", "York", and "City" would be grouped into one token for "New York City"
- __Lemmatization__: Converting words into their base, canonical forms. Can be compared to Stemming, which converts words into their stems and can sometimes lead to nonsensical sub-words
- __Named Entity Recognition__: One step beyond POS Tagging, where labels are assigned to known entities such as locations, persons, organizations, and currencies
- __Entity Linking__: Disambiguating entities with the use of context clues and external databases.
#%% md
# spaCY

spaCy is an open source library which initially relied on RNN networks, now supporting state-of-the-art Transformer models. To install spaCy, we will do the following:
#%%
!pip install -U spacy[cuda110,transformers,lookups]==3.0.3
!pip install -U spacy-lookups-data==1.0.0
!pip install cupy-cuda110==8.5.0
!python -m spacy download en_core_web_trf
