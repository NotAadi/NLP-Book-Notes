
{
 "cells": [
  {
   "cell_type": "markdown",
   "source": [
    "# NLP Basic Terms\n",
    "\n",
    "- __Tokenization__: The process of breaking text down into meaningful elements such as words or punctuation. Also involves turning text into tensors that neural nets can work with\n",
    "- __Part of Speech (POS) Tagging__: Identifying what grammatical part of speech (verb, proper noun, adjective, etc.) each token is\n",
    "- __Dependency Parsing__: Identifying relationships between tokens, creating a syntactic structure for the sentence\n",
    "- __Chunking__: Combining related tokens into a single token, such as related noun groups or related verb groups. E.g., Tokens of \"New\", \"York\", and \"City\" would be grouped into one token for \"New York City\"\n",
    "- __Lemmatization__: Converting words into their base, canonical forms. Can be compared to Stemming, which converts words into their stems and can sometimes lead to nonsensical sub-words\n",
    "- __Named Entity Recognition__: One step beyond POS Tagging, where labels are assigned to known entities such as locations, persons, organizations, and currencies\n",
    "- __Entity Linking__: Disambiguating entities with the use of context clues and external databases."
   ],
   "metadata": {
    "collapsed": false
   }
  },
  {
   "cell_type": "markdown",
   "source": [
    "# spaCY\n",
    "\n",
    "spaCy is an open source library which initially relied on RNN networks, now supporting state-of-the-art Transformer models. To install spaCy, we will do the following:"
   ],
   "metadata": {
    "collapsed": false
   }
  },
  {
   "cell_type": "code",
   "execution_count": 2,
   "outputs": [
    {
     "name": "stdout",
     "output_type": "stream",
     "text": [
      "Requirement already satisfied: spacy[cuda110,lookups,transformers]==3.0.3 in c:\\users\\aadia\\anaconda3\\lib\\site-packages (3.0.3)\n",
      "Requirement already satisfied: pathy in c:\\users\\aadia\\anaconda3\\lib\\site-packages (from spacy[cuda110,lookups,transformers]==3.0.3) (0.10.1)\n",
      "Requirement already satisfied: numpy>=1.15.0 in c:\\users\\aadia\\anaconda3\\lib\\site-packages (from spacy[cuda110,lookups,transformers]==3.0.3) (1.23.0)\n",
      "Requirement already satisfied: preshed<3.1.0,>=3.0.2 in c:\\users\\aadia\\anaconda3\\lib\\site-packages (from spacy[cuda110,lookups,transformers]==3.0.3) (3.0.8)\n",
      "Requirement already satisfied: wasabi<1.1.0,>=0.8.1 in c:\\users\\aadia\\anaconda3\\lib\\site-packages (from spacy[cuda110,lookups,transformers]==3.0.3) (0.10.1)\n",
      "Requirement already satisfied: requests<3.0.0,>=2.13.0 in c:\\users\\aadia\\anaconda3\\lib\\site-packages (from spacy[cuda110,lookups,transformers]==3.0.3) (2.25.1)\n",
      "Requirement already satisfied: cymem<2.1.0,>=2.0.2 in c:\\users\\aadia\\anaconda3\\lib\\site-packages (from spacy[cuda110,lookups,transformers]==3.0.3) (2.0.7)\n",
      "Requirement already satisfied: pydantic<1.8.0,>=1.7.1 in c:\\users\\aadia\\anaconda3\\lib\\site-packages (from spacy[cuda110,lookups,transformers]==3.0.3) (1.7.4)\n",
      "Requirement already satisfied: packaging>=20.0 in c:\\users\\aadia\\anaconda3\\lib\\site-packages (from spacy[cuda110,lookups,transformers]==3.0.3) (20.9)\n",
      "Requirement already satisfied: spacy-legacy<3.1.0,>=3.0.0 in c:\\users\\aadia\\anaconda3\\lib\\site-packages (from spacy[cuda110,lookups,transformers]==3.0.3) (3.0.10)\n",
      "Requirement already satisfied: tqdm<5.0.0,>=4.38.0 in c:\\users\\aadia\\anaconda3\\lib\\site-packages (from spacy[cuda110,lookups,transformers]==3.0.3) (4.59.0)\n",
      "Requirement already satisfied: jinja2 in c:\\users\\aadia\\anaconda3\\lib\\site-packages (from spacy[cuda110,lookups,transformers]==3.0.3) (2.11.3)\n",
      "Requirement already satisfied: murmurhash<1.1.0,>=0.28.0 in c:\\users\\aadia\\anaconda3\\lib\\site-packages (from spacy[cuda110,lookups,transformers]==3.0.3) (1.0.9)\n",
      "Requirement already satisfied: catalogue<2.1.0,>=2.0.1 in c:\\users\\aadia\\anaconda3\\lib\\site-packages (from spacy[cuda110,lookups,transformers]==3.0.3) (2.0.8)\n",
      "Requirement already satisfied: typer<0.4.0,>=0.3.0 in c:\\users\\aadia\\anaconda3\\lib\\site-packages (from spacy[cuda110,lookups,transformers]==3.0.3) (0.3.2)\n",
      "Requirement already satisfied: setuptools in c:\\users\\aadia\\anaconda3\\lib\\site-packages (from spacy[cuda110,lookups,transformers]==3.0.3) (52.0.0.post20210125)\n",
      "Requirement already satisfied: srsly<3.0.0,>=2.4.0 in c:\\users\\aadia\\anaconda3\\lib\\site-packages (from spacy[cuda110,lookups,transformers]==3.0.3) (2.4.5)\n",
      "Requirement already satisfied: blis<0.8.0,>=0.4.0 in c:\\users\\aadia\\anaconda3\\lib\\site-packages (from spacy[cuda110,lookups,transformers]==3.0.3) (0.7.9)\n",
      "Requirement already satisfied: thinc<8.1.0,>=8.0.0 in c:\\users\\aadia\\anaconda3\\lib\\site-packages (from spacy[cuda110,lookups,transformers]==3.0.3) (8.0.17)\n",
      "Requirement already satisfied: spacy-lookups-data<1.1.0,>=1.0.0 in c:\\users\\aadia\\anaconda3\\lib\\site-packages (from spacy[cuda110,lookups,transformers]==3.0.3) (1.0.0)\n",
      "Requirement already satisfied: cupy-cuda110<9.0.0,>=5.0.0b4 in c:\\users\\aadia\\anaconda3\\lib\\site-packages (from spacy[cuda110,lookups,transformers]==3.0.3) (8.5.0)\n",
      "Requirement already satisfied: spacy-transformers<1.1.0,>=1.0.1 in c:\\users\\aadia\\anaconda3\\lib\\site-packages (from spacy[cuda110,lookups,transformers]==3.0.3) (1.0.4)\n",
      "Requirement already satisfied: fastrlock>=0.3 in c:\\users\\aadia\\anaconda3\\lib\\site-packages (from cupy-cuda110<9.0.0,>=5.0.0b4->spacy[cuda110,lookups,transformers]==3.0.3) (0.8.1)\n",
      "Requirement already satisfied: pyparsing>=2.0.2 in c:\\users\\aadia\\anaconda3\\lib\\site-packages (from packaging>=20.0->spacy[cuda110,lookups,transformers]==3.0.3) (2.4.7)\n",
      "Requirement already satisfied: urllib3<1.27,>=1.21.1 in c:\\users\\aadia\\anaconda3\\lib\\site-packages (from requests<3.0.0,>=2.13.0->spacy[cuda110,lookups,transformers]==3.0.3) (1.26.4)\n",
      "Requirement already satisfied: idna<3,>=2.5 in c:\\users\\aadia\\anaconda3\\lib\\site-packages (from requests<3.0.0,>=2.13.0->spacy[cuda110,lookups,transformers]==3.0.3) (2.10)\n",
      "Requirement already satisfied: certifi>=2017.4.17 in c:\\users\\aadia\\anaconda3\\lib\\site-packages (from requests<3.0.0,>=2.13.0->spacy[cuda110,lookups,transformers]==3.0.3) (2022.9.24)\n",
      "Requirement already satisfied: chardet<5,>=3.0.2 in c:\\users\\aadia\\anaconda3\\lib\\site-packages (from requests<3.0.0,>=2.13.0->spacy[cuda110,lookups,transformers]==3.0.3) (4.0.0)\n",
      "Requirement already satisfied: spacy-alignments<1.0.0,>=0.7.2 in c:\\users\\aadia\\anaconda3\\lib\\site-packages (from spacy-transformers<1.1.0,>=1.0.1->spacy[cuda110,lookups,transformers]==3.0.3) (0.8.6)\n",
      "Requirement already satisfied: torch>=1.5.0 in c:\\users\\aadia\\anaconda3\\lib\\site-packages (from spacy-transformers<1.1.0,>=1.0.1->spacy[cuda110,lookups,transformers]==3.0.3) (1.13.0)\n",
      "Requirement already satisfied: transformers<4.10.0,>=3.4.0 in c:\\users\\aadia\\anaconda3\\lib\\site-packages (from spacy-transformers<1.1.0,>=1.0.1->spacy[cuda110,lookups,transformers]==3.0.3) (4.9.2)\n",
      "Requirement already satisfied: typing-extensions in c:\\users\\aadia\\anaconda3\\lib\\site-packages (from torch>=1.5.0->spacy-transformers<1.1.0,>=1.0.1->spacy[cuda110,lookups,transformers]==3.0.3) (4.4.0)\n",
      "Requirement already satisfied: filelock in c:\\users\\aadia\\anaconda3\\lib\\site-packages (from transformers<4.10.0,>=3.4.0->spacy-transformers<1.1.0,>=1.0.1->spacy[cuda110,lookups,transformers]==3.0.3) (3.0.12)\n",
      "Requirement already satisfied: sacremoses in c:\\users\\aadia\\anaconda3\\lib\\site-packages (from transformers<4.10.0,>=3.4.0->spacy-transformers<1.1.0,>=1.0.1->spacy[cuda110,lookups,transformers]==3.0.3) (0.0.53)\n",
      "Requirement already satisfied: huggingface-hub==0.0.12 in c:\\users\\aadia\\anaconda3\\lib\\site-packages (from transformers<4.10.0,>=3.4.0->spacy-transformers<1.1.0,>=1.0.1->spacy[cuda110,lookups,transformers]==3.0.3) (0.0.12)\n",
      "Requirement already satisfied: regex!=2019.12.17 in c:\\users\\aadia\\anaconda3\\lib\\site-packages (from transformers<4.10.0,>=3.4.0->spacy-transformers<1.1.0,>=1.0.1->spacy[cuda110,lookups,transformers]==3.0.3) (2021.4.4)\n",
      "Requirement already satisfied: tokenizers<0.11,>=0.10.1 in c:\\users\\aadia\\anaconda3\\lib\\site-packages (from transformers<4.10.0,>=3.4.0->spacy-transformers<1.1.0,>=1.0.1->spacy[cuda110,lookups,transformers]==3.0.3) (0.10.3)\n",
      "Requirement already satisfied: pyyaml>=5.1 in c:\\users\\aadia\\anaconda3\\lib\\site-packages (from transformers<4.10.0,>=3.4.0->spacy-transformers<1.1.0,>=1.0.1->spacy[cuda110,lookups,transformers]==3.0.3) (6.0)\n",
      "Collecting click<7.2.0,>=7.1.1\n",
      "  Using cached click-7.1.2-py2.py3-none-any.whl (82 kB)\n",
      "Requirement already satisfied: MarkupSafe>=0.23 in c:\\users\\aadia\\anaconda3\\lib\\site-packages (from jinja2->spacy[cuda110,lookups,transformers]==3.0.3) (1.1.1)\n",
      "Requirement already satisfied: smart-open<7.0.0,>=5.2.1 in c:\\users\\aadia\\anaconda3\\lib\\site-packages (from pathy->spacy[cuda110,lookups,transformers]==3.0.3) (6.2.0)\n",
      "Requirement already satisfied: six in c:\\users\\aadia\\anaconda3\\lib\\site-packages (from sacremoses->transformers<4.10.0,>=3.4.0->spacy-transformers<1.1.0,>=1.0.1->spacy[cuda110,lookups,transformers]==3.0.3) (1.15.0)\n",
      "Requirement already satisfied: joblib in c:\\users\\aadia\\anaconda3\\lib\\site-packages (from sacremoses->transformers<4.10.0,>=3.4.0->spacy-transformers<1.1.0,>=1.0.1->spacy[cuda110,lookups,transformers]==3.0.3) (1.0.1)\n",
      "Installing collected packages: click\n",
      "  Attempting uninstall: click\n",
      "    Found existing installation: click 8.0.4\n",
      "    Uninstalling click-8.0.4:\n",
      "      Successfully uninstalled click-8.0.4\n",
      "Successfully installed click-7.1.2\n"
     ]
    },
    {
     "name": "stderr",
     "output_type": "stream",
     "text": [
      "ERROR: pip's dependency resolver does not currently take into account all the packages that are installed. This behaviour is the source of the following dependency conflicts.\n",
      "black 22.6.0 requires click>=8.0.0, but you have click 7.1.2 which is incompatible.\n"
     ]
    },
    {
     "name": "stdout",
     "output_type": "stream",
     "text": [
      "Requirement already satisfied: spacy-lookups-data==1.0.0 in c:\\users\\aadia\\anaconda3\\lib\\site-packages (1.0.0)\n",
      "Requirement already satisfied: setuptools in c:\\users\\aadia\\anaconda3\\lib\\site-packages (from spacy-lookups-data==1.0.0) (52.0.0.post20210125)\n",
      "Requirement already satisfied: cupy-cuda110==8.5.0 in c:\\users\\aadia\\anaconda3\\lib\\site-packages (8.5.0)\n",
      "Requirement already satisfied: fastrlock>=0.3 in c:\\users\\aadia\\anaconda3\\lib\\site-packages (from cupy-cuda110==8.5.0) (0.8.1)\n",
      "Requirement already satisfied: numpy>=1.15 in c:\\users\\aadia\\anaconda3\\lib\\site-packages (from cupy-cuda110==8.5.0) (1.23.0)\n"
     ]
    },
    {
     "name": "stderr",
     "output_type": "stream",
     "text": [
      "Traceback (most recent call last):\n",
      "  File \"C:\\Users\\aadia\\anaconda3\\lib\\runpy.py\", line 185, in _run_module_as_main\n",
      "    mod_name, mod_spec, code = _get_module_details(mod_name, _Error)\n",
      "  File \"C:\\Users\\aadia\\anaconda3\\lib\\runpy.py\", line 144, in _get_module_details\n",
      "    return _get_module_details(pkg_main_name, error)\n",
      "  File \"C:\\Users\\aadia\\anaconda3\\lib\\runpy.py\", line 111, in _get_module_details\n",
      "    __import__(pkg_name)\n",
      "  File \"C:\\Users\\aadia\\anaconda3\\lib\\site-packages\\spacy\\__init__.py\", line 10, in <module>\n",
      "    from thinc.api import prefer_gpu, require_gpu, require_cpu  # noqa: F401\n",
      "  File \"C:\\Users\\aadia\\anaconda3\\lib\\site-packages\\thinc\\api.py\", line 2, in <module>\n",
      "    from .initializers import normal_init, uniform_init, glorot_uniform_init, zero_init\n",
      "  File \"C:\\Users\\aadia\\anaconda3\\lib\\site-packages\\thinc\\initializers.py\", line 4, in <module>\n",
      "    from .backends import Ops\n",
      "  File \"C:\\Users\\aadia\\anaconda3\\lib\\site-packages\\thinc\\backends\\__init__.py\", line 7, in <module>\n",
      "    from .ops import Ops\n",
      "  File \"C:\\Users\\aadia\\anaconda3\\lib\\site-packages\\thinc\\backends\\ops.py\", line 13, in <module>\n",
      "    from ..util import get_array_module, is_xp_array, to_numpy\n",
      "  File \"C:\\Users\\aadia\\anaconda3\\lib\\site-packages\\thinc\\util.py\", line 29, in <module>\n",
      "    import torch\n",
      "  File \"C:\\Users\\aadia\\anaconda3\\lib\\site-packages\\torch\\__init__.py\", line 139, in <module>\n",
      "    raise err\n",
      "OSError: [WinError 126] The specified module could not be found. Error loading \"C:\\Users\\aadia\\anaconda3\\lib\\site-packages\\torch\\lib\\cudnn_adv_infer64_8.dll\" or one of its dependencies.\n"
     ]
    }
   ],
   "source": [
    "!pip install -U spacy[cuda110,transformers,lookups]==3.0.3\n",
    "!pip install -U spacy-lookups-data==1.0.0\n",
    "!pip install cupy-cuda110==8.5.0\n",
    "!python -m spacy download en_core_web_trf"
   ],
   "metadata": {
    "collapsed": false
   }
  },
  {
   "cell_type": "code",
   "execution_count": null,
   "outputs": [],
   "source": [],
   "metadata": {
    "collapsed": false
   }
  }
 ],
 "metadata": {
  "kernelspec": {
   "display_name": "Python 3",
   "language": "python",
   "name": "python3"
  },
  "language_info": {
   "codemirror_mode": {
    "name": "ipython",
    "version": 2
   },
   "file_extension": ".py",
   "mimetype": "text/x-python",
   "name": "python",
   "nbconvert_exporter": "python",
   "pygments_lexer": "ipython2",
   "version": "2.7.6"
  }
 },
 "nbformat": 4,
 "nbformat_minor": 0
}
